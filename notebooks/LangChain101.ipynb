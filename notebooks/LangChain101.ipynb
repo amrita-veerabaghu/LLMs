{
 "cells": [
  {
   "cell_type": "markdown",
   "id": "f0dfcd30-150f-4c80-8997-4b1060629bae",
   "metadata": {},
   "source": [
    "# Load API Keys "
   ]
  },
  {
   "cell_type": "code",
   "execution_count": 5,
   "id": "99363b34-cca1-433c-a9ed-98b675f267c6",
   "metadata": {},
   "outputs": [],
   "source": [
    "# !pip3 install python-dotenv"
   ]
  },
  {
   "cell_type": "code",
   "execution_count": 1,
   "id": "795aef39-c07e-4676-b2bb-311735a304df",
   "metadata": {},
   "outputs": [
    {
     "data": {
      "text/plain": [
       "True"
      ]
     },
     "execution_count": 1,
     "metadata": {},
     "output_type": "execute_result"
    }
   ],
   "source": [
    "from dotenv import load_dotenv\n",
    "\n",
    "load_dotenv('../env.sh')"
   ]
  },
  {
   "cell_type": "code",
   "execution_count": 2,
   "id": "b2a561ef-1af8-41d4-8005-52665a6c1d4e",
   "metadata": {},
   "outputs": [
    {
     "name": "stderr",
     "output_type": "stream",
     "text": [
      "/Users/amrita/PycharmProjects/LLMs/venv/lib/python3.10/site-packages/deeplake/util/check_latest_version.py:32: UserWarning: A newer version of deeplake (3.8.13) is available. It's recommended that you update to the latest version using `pip install -U deeplake`.\n",
      "  warnings.warn(\n"
     ]
    }
   ],
   "source": [
    "from langchain.llms import OpenAI"
   ]
  },
  {
   "cell_type": "markdown",
   "id": "cd99a8a4-85be-411c-b9c6-598fbf2b2ccd",
   "metadata": {},
   "source": [
    "# LangChain 101"
   ]
  },
  {
   "cell_type": "markdown",
   "id": "7e7bc031-52b9-4dae-8316-fa2b4be5183b",
   "metadata": {},
   "source": [
    "## The LLMs"
   ]
  },
  {
   "cell_type": "code",
   "execution_count": 3,
   "id": "d893b9b1-8d1b-4282-bc9e-6df590c535cd",
   "metadata": {},
   "outputs": [],
   "source": [
    "from langchain.llms import OpenAI"
   ]
  },
  {
   "cell_type": "code",
   "execution_count": 16,
   "id": "1dae53b5-370e-47cd-a8e6-149d7d90384b",
   "metadata": {},
   "outputs": [],
   "source": [
    "llm = OpenAI(model='text-davinci-003', temperature=0.9)"
   ]
  },
  {
   "cell_type": "code",
   "execution_count": 17,
   "id": "c30cca41-2687-491c-bb15-83cc4ca8cefd",
   "metadata": {},
   "outputs": [
    {
     "name": "stdout",
     "output_type": "stream",
     "text": [
      "\n",
      "\n",
      "1. Start your workout routine three times per week with a mid-distance run. Alternate between running a 3 mile route at medium intensity one workout and doing hill sprints for a one mile route the next. \n",
      "\n",
      "2. After your run, focus on high-intensity interval training (HIIT) to build up your cardiovascular endurance. Begin with a light warm-up, then do a mixture of squats, lunges, burpees, and jumping jacks for 30 seconds each. Rest for 30 seconds between each exercise.\n",
      "\n",
      "3. After your HIIT session, cool down with a light jog. Alternatively, you can go for a swim or bike ride to change up your routine and give your muscles a break from running.\n",
      "\n",
      "4. Twice a week, replace your run or HIIT session with a leisurely bike ride or walk to a nearby park or lake. This will help to build up your endurance and help reduce burnout.\n",
      "\n",
      "5. Finally, be sure to stretch before and after each workout to improve flexibility and reduce risk of injury.\n"
     ]
    }
   ],
   "source": [
    "text = \"Suggest a personalized workout routine for someone looking to improve cardiovascular endurance and prefers outdoor activities.\"\n",
    "print(llm(text))"
   ]
  },
  {
   "cell_type": "markdown",
   "id": "ccb35cb9-d4d8-493a-af87-3da867e6f15f",
   "metadata": {},
   "source": [
    "## The Chain"
   ]
  },
  {
   "cell_type": "code",
   "execution_count": 4,
   "id": "4636b689-b677-48f2-8eff-9b1c856af0bb",
   "metadata": {},
   "outputs": [],
   "source": [
    "from langchain import prompts, llms, chains "
   ]
  },
  {
   "cell_type": "code",
   "execution_count": null,
   "id": "b3edfa2c-a1cb-44f0-8f11-d4d3084ffa04",
   "metadata": {},
   "outputs": [],
   "source": [
    "llm = llms.OpenAI(model = \"text-davinci-003\", temperature = 0.9)\n",
    "prompt = prompts.PromptTemplate(input_variables = [\"product\"], template = \"What is a good name for a company that makes {product}?\")\n",
    "\n",
    "chain = chains.LLMChain(llm=llm, prompt=prompt)\n",
    "\n",
    "print(chain.run(\"eco-friendly water bottles\"))"
   ]
  },
  {
   "cell_type": "markdown",
   "id": "aa542b19-f319-4327-99a5-0fe5aa05c75b",
   "metadata": {},
   "source": [
    "## The Memory"
   ]
  },
  {
   "cell_type": "code",
   "execution_count": 5,
   "id": "d48099fd-5685-4298-b253-2913927bf10a",
   "metadata": {},
   "outputs": [],
   "source": [
    "from langchain import memory"
   ]
  },
  {
   "cell_type": "code",
   "execution_count": null,
   "id": "c35bd62a-2712-4fd7-a511-d9c1cbc8ff8b",
   "metadata": {},
   "outputs": [],
   "source": [
    "llm = llms.OpenAI(model = \"text-davinci-003\", temperature = 0)\n",
    "conversation = chains.ConversationChain(llm=llm, verbose=True, memory=memory.ConversationBufferMemory())\n",
    "\n",
    "conversation.predict(input=\"Tell me about yourself.\")\n",
    "\n",
    "# Continue the conversation\n",
    "conversation.predict(input=\"What can you do?\")\n",
    "conversation.predict(input=\"How can you help me with data analysis?\")\n",
    "\n",
    "print(conversation)"
   ]
  },
  {
   "cell_type": "markdown",
   "id": "3a258cfb-7d9d-413e-8c88-f634d66ed336",
   "metadata": {},
   "source": [
    "## Deep Lake Vector store"
   ]
  },
  {
   "cell_type": "code",
   "execution_count": 12,
   "id": "912397c3-fb5b-4e75-a80b-dfb0ffffa441",
   "metadata": {},
   "outputs": [],
   "source": [
    "from langchain.embeddings import openai\n",
    "from langchain.vectorstores.deeplake import DeepLake\n",
    "from langchain import text_splitter"
   ]
  },
  {
   "cell_type": "code",
   "execution_count": 14,
   "id": "92b1fc8e-11a5-4ea8-8757-34ab4c144b5d",
   "metadata": {},
   "outputs": [],
   "source": [
    "llm = llms.OpenAI(model=\"text-davinci-003\", temperature=0)\n",
    "embeddings = openai.OpenAIEmbeddings(model=\"text-embedding-ada-002\")"
   ]
  },
  {
   "cell_type": "code",
   "execution_count": 15,
   "id": "0224edef-7920-4315-8c2f-d3a642b025ce",
   "metadata": {},
   "outputs": [],
   "source": [
    "texts = [\n",
    "    \"Napoleon Bonaparte was born in 15 August 1769\",\n",
    "    \"Louis XIV was born in 5 September 1638\"\n",
    "]\n",
    "\n",
    "text_split = text_splitter.RecursiveCharacterTextSplitter(chunk_size=1000, chunk_overlap=0)\n",
    "docs = text_split.create_documents(texts)"
   ]
  },
  {
   "cell_type": "code",
   "execution_count": 16,
   "id": "495a2a63-c55a-47fc-a13e-0e41920c5c7d",
   "metadata": {},
   "outputs": [],
   "source": [
    "my_activeloop_org_id = \"amrita95\"\n",
    "my_activeloop_dataset_name = \"langchain_course_from_zero_to_hero\"\n",
    "\n",
    "dataset_path = f\"hub://{my_activeloop_org_id}/{my_activeloop_dataset_name}\""
   ]
  },
  {
   "cell_type": "code",
   "execution_count": 17,
   "id": "91a98f89-634c-4f1a-9593-1fd8513145f9",
   "metadata": {},
   "outputs": [
    {
     "name": "stdout",
     "output_type": "stream",
     "text": [
      "Deep Lake Dataset in hub://amrita95/langchain_course_from_zero_to_hero already exists, loading from the storage\n"
     ]
    }
   ],
   "source": [
    "db = DeepLake(dataset_path=dataset_path, embedding_function=embeddings)"
   ]
  },
  {
   "cell_type": "code",
   "execution_count": 18,
   "id": "de84059c-1eee-42c7-a24d-d88c802afc30",
   "metadata": {},
   "outputs": [
    {
     "name": "stderr",
     "output_type": "stream",
     "text": [
      " \r"
     ]
    },
    {
     "name": "stdout",
     "output_type": "stream",
     "text": [
      "Dataset(path='hub://amrita95/langchain_course_from_zero_to_hero', tensors=['embedding', 'id', 'metadata', 'text'])\n",
      "\n",
      "  tensor      htype      shape     dtype  compression\n",
      "  -------    -------    -------   -------  ------- \n",
      " embedding  embedding  (2, 1536)  float32   None   \n",
      "    id        text      (2, 1)      str     None   \n",
      " metadata     json      (2, 1)      str     None   \n",
      "   text       text      (2, 1)      str     None   \n"
     ]
    },
    {
     "data": {
      "text/plain": [
       "['42b14564-a2fc-11ee-a4f3-a683e744668d',\n",
       " '42b14636-a2fc-11ee-a4f3-a683e744668d']"
      ]
     },
     "execution_count": 18,
     "metadata": {},
     "output_type": "execute_result"
    }
   ],
   "source": [
    "db.add_documents(docs)"
   ]
  },
  {
   "cell_type": "code",
   "execution_count": 19,
   "id": "74b96829-2cfc-4c24-bd35-8d3cd2f5a9d6",
   "metadata": {},
   "outputs": [],
   "source": [
    "retrieval_qa = chains.RetrievalQA.from_chain_type(\n",
    "\tllm=llm,\n",
    "\tchain_type=\"stuff\",\n",
    "\tretriever=db.as_retriever()\n",
    ")"
   ]
  },
  {
   "cell_type": "code",
   "execution_count": 20,
   "id": "61235b67-f1bb-47ea-a655-b4c0cad85785",
   "metadata": {},
   "outputs": [],
   "source": [
    "from langchain.agents import initialize_agent, Tool\n",
    "from langchain.agents import AgentType\n",
    "\n",
    "tools = [\n",
    "    Tool(\n",
    "        name=\"Retrieval QA System\",\n",
    "        func=retrieval_qa.run,\n",
    "        description=\"Useful for answering questions.\"\n",
    "    ),\n",
    "]\n",
    "\n",
    "agent = initialize_agent(\n",
    "\ttools,\n",
    "\tllm,\n",
    "\tagent=AgentType.ZERO_SHOT_REACT_DESCRIPTION,\n",
    "\tverbose=True\n",
    ")"
   ]
  },
  {
   "cell_type": "code",
   "execution_count": 21,
   "id": "421a893b-8129-4c57-a943-b77a0b4035f0",
   "metadata": {},
   "outputs": [
    {
     "name": "stdout",
     "output_type": "stream",
     "text": [
      "\n",
      "\n",
      "\u001b[1m> Entering new  chain...\u001b[0m\n",
      "\u001b[32;1m\u001b[1;3m I need to find out when Napoleone was born.\n",
      "Action: Retrieval QA System\n",
      "Action Input: When was Napoleone born?\u001b[0m\n",
      "Observation: \u001b[36;1m\u001b[1;3m Napoleon Bonaparte was born on 15 August 1769.\u001b[0m\n",
      "Thought:\u001b[32;1m\u001b[1;3m I now know the final answer.\n",
      "Final Answer: Napoleon Bonaparte was born on 15 August 1769.\u001b[0m\n",
      "\n",
      "\u001b[1m> Finished chain.\u001b[0m\n",
      "Napoleon Bonaparte was born on 15 August 1769.\n"
     ]
    }
   ],
   "source": [
    "response = agent.run(\"When was Napoleone born?\")\n",
    "print(response)"
   ]
  },
  {
   "cell_type": "code",
   "execution_count": 23,
   "id": "2edb11e2-9aa9-4018-95d5-44f774cf982b",
   "metadata": {},
   "outputs": [
    {
     "name": "stderr",
     "output_type": "stream",
     "text": [
      "/"
     ]
    },
    {
     "name": "stdout",
     "output_type": "stream",
     "text": [
      "Dataset(path='hub://amrita95/langchain_course_from_zero_to_hero', tensors=['embedding', 'id', 'metadata', 'text'])\n",
      "\n",
      "  tensor      htype      shape     dtype  compression\n",
      "  -------    -------    -------   -------  ------- \n",
      " embedding  embedding  (4, 1536)  float32   None   \n",
      "    id        text      (4, 1)      str     None   \n",
      " metadata     json      (4, 1)      str     None   \n",
      "   text       text      (4, 1)      str     None   \n"
     ]
    },
    {
     "name": "stderr",
     "output_type": "stream",
     "text": [
      " \r"
     ]
    },
    {
     "data": {
      "text/plain": [
       "['dcf07956-a2fc-11ee-a4f3-a683e744668d',\n",
       " 'dcf07a6e-a2fc-11ee-a4f3-a683e744668d']"
      ]
     },
     "execution_count": 23,
     "metadata": {},
     "output_type": "execute_result"
    }
   ],
   "source": [
    "# create new documents\n",
    "texts = [\n",
    "    \"Lady Gaga was born in 28 March 1986\",\n",
    "    \"Michael Jeffrey Jordan was born in 17 February 1963\"\n",
    "]\n",
    "\n",
    "docs = text_split.create_documents(texts)\n",
    "\n",
    "# add documents to our Deep Lake dataset\n",
    "db.add_documents(docs)"
   ]
  },
  {
   "cell_type": "code",
   "execution_count": 24,
   "id": "f1694dff-1a93-4f95-a902-babe45eb0ba2",
   "metadata": {},
   "outputs": [
    {
     "name": "stdout",
     "output_type": "stream",
     "text": [
      "\n",
      "\n",
      "\u001b[1m> Entering new  chain...\u001b[0m\n",
      "\u001b[32;1m\u001b[1;3m I need to find out when Michael Jordan was born.\n",
      "Action: Retrieval QA System\n",
      "Action Input: When was Michael Jordan born?\u001b[0m\n",
      "Observation: \u001b[36;1m\u001b[1;3m Michael Jordan was born on 17 February 1963.\u001b[0m\n",
      "Thought:\u001b[32;1m\u001b[1;3m I now know the final answer.\n",
      "Final Answer: Michael Jordan was born on 17 February 1963.\u001b[0m\n",
      "\n",
      "\u001b[1m> Finished chain.\u001b[0m\n",
      "Michael Jordan was born on 17 February 1963.\n"
     ]
    }
   ],
   "source": [
    "response = agent.run(\"When was Michael Jordan born?\")\n",
    "print(response)"
   ]
  },
  {
   "cell_type": "markdown",
   "id": "da1453cf-0aa6-4c26-97d8-f8f56fadbe65",
   "metadata": {},
   "source": [
    "### Google search Tool"
   ]
  },
  {
   "cell_type": "code",
   "execution_count": 25,
   "id": "a72871bd-2f2d-42a6-8723-304a412d680e",
   "metadata": {},
   "outputs": [],
   "source": [
    "from langchain.llms import OpenAI\n",
    "from langchain.agents import AgentType, load_tools, initialize_agent, Tool\n",
    "from langchain.utilities import GoogleSearchAPIWrapper"
   ]
  },
  {
   "cell_type": "code",
   "execution_count": 26,
   "id": "338709a7-86eb-4865-ba79-155525d7310b",
   "metadata": {},
   "outputs": [],
   "source": [
    "llm = OpenAI(model=\"text-davinci-003\", temperature=0)"
   ]
  },
  {
   "cell_type": "code",
   "execution_count": 28,
   "id": "8349664e-b76f-457d-a873-1eeefdcef3e3",
   "metadata": {},
   "outputs": [
    {
     "data": {
      "text/plain": [
       "True"
      ]
     },
     "execution_count": 28,
     "metadata": {},
     "output_type": "execute_result"
    }
   ],
   "source": [
    "## load Google API keys\n",
    "load_dotenv('../env.sh')"
   ]
  },
  {
   "cell_type": "code",
   "execution_count": 30,
   "id": "5369df3b-4a29-4b0f-b940-3506fbbf2ce1",
   "metadata": {
    "collapsed": true,
    "jupyter": {
     "outputs_hidden": true
    },
    "scrolled": true
   },
   "outputs": [
    {
     "name": "stdout",
     "output_type": "stream",
     "text": [
      "Using version \u001b[39;1m^2.111.0\u001b[39;22m for \u001b[36mgoogle-api-python-client\u001b[39m\n",
      "\n",
      "\u001b[34mUpdating dependencies\u001b[39m\n",
      "\u001b[2K\u001b[34mResolving dependencies...\u001b[39m \u001b[39;2m(6.4s)\u001b[39;22ms://files.pythonhosted.org/packages/a2/91/2d843adb9fbd911e0da45fbf6f18ca89d07a087c3daa23e955584f90ebf4/cachetools-5.3.2-py3-none-any.whl\u001b[39m \u001b[39;2m(2.9s)\u001b[39;22m\n",
      "\n",
      "\u001b[39;1mPackage operations\u001b[39;22m: \u001b[34m11\u001b[39m installs, \u001b[34m0\u001b[39m updates, \u001b[34m0\u001b[39m removals\n",
      "\n",
      "  \u001b[34;1m•\u001b[39;22m \u001b[39mInstalling \u001b[39m\u001b[36mpyasn1\u001b[39m\u001b[39m (\u001b[39m\u001b[39;1m0.5.1\u001b[39;22m\u001b[39m)\u001b[39m: \u001b[34mPending...\u001b[39m\n",
      "\u001b[1A\u001b[0J  \u001b[34;1m•\u001b[39;22m \u001b[39mInstalling \u001b[39m\u001b[36mpyasn1\u001b[39m\u001b[39m (\u001b[39m\u001b[39;1m0.5.1\u001b[39;22m\u001b[39m)\u001b[39m: \u001b[34mDownloading...\u001b[39m \u001b[39;1m0%\u001b[39;22m\n",
      "\u001b[1A\u001b[0J  \u001b[34;1m•\u001b[39;22m \u001b[39mInstalling \u001b[39m\u001b[36mpyasn1\u001b[39m\u001b[39m (\u001b[39m\u001b[39;1m0.5.1\u001b[39;22m\u001b[39m)\u001b[39m: \u001b[34mDownloading...\u001b[39m \u001b[39;1m100%\u001b[39;22m\n",
      "\u001b[1A\u001b[0J  \u001b[34;1m•\u001b[39;22m \u001b[39mInstalling \u001b[39m\u001b[36mpyasn1\u001b[39m\u001b[39m (\u001b[39m\u001b[39;1m0.5.1\u001b[39;22m\u001b[39m)\u001b[39m: \u001b[34mInstalling...\u001b[39m\n",
      "\u001b[1A\u001b[0J  \u001b[32;1m•\u001b[39;22m \u001b[39mInstalling \u001b[39m\u001b[36mpyasn1\u001b[39m\u001b[39m (\u001b[39m\u001b[32m0.5.1\u001b[39m\u001b[39m)\u001b[39m\n",
      "  \u001b[34;1m•\u001b[39;22m \u001b[39mInstalling \u001b[39m\u001b[36mcachetools\u001b[39m\u001b[39m (\u001b[39m\u001b[39;1m5.3.2\u001b[39;22m\u001b[39m)\u001b[39m: \u001b[34mPending...\u001b[39m\n",
      "  \u001b[34;1m•\u001b[39;22m \u001b[39mInstalling \u001b[39m\u001b[36mpyasn1-modules\u001b[39m\u001b[39m (\u001b[39m\u001b[39;1m0.3.0\u001b[39;22m\u001b[39m)\u001b[39m: \u001b[34mPending...\u001b[39m\n",
      "  \u001b[34;1m•\u001b[39;22m \u001b[39mInstalling \u001b[39m\u001b[36mrsa\u001b[39m\u001b[39m (\u001b[39m\u001b[39;1m4.9\u001b[39;22m\u001b[39m)\u001b[39m: \u001b[34mPending...\u001b[39m\n",
      "\u001b[2A\u001b[0J  \u001b[34;1m•\u001b[39;22m \u001b[39mInstalling \u001b[39m\u001b[36mrsa\u001b[39m\u001b[39m (\u001b[39m\u001b[39;1m4.9\u001b[39;22m\u001b[39m)\u001b[39m: \u001b[34mPending...\u001b[39m\n",
      "\u001b[1A\u001b[0J  \u001b[34;1m•\u001b[39;22m \u001b[39mInstalling \u001b[39m\u001b[36mpyasn1-modules\u001b[39m\u001b[39m (\u001b[39m\u001b[39;1m0.3.0\u001b[39;22m\u001b[39m)\u001b[39m: \u001b[34mDownloading...\u001b[39m \u001b[39;1m0%\u001b[39;22m\n",
      "  \u001b[34;1m•\u001b[39;22m \u001b[39mInstalling \u001b[39m\u001b[36mrsa\u001b[39m\u001b[39m (\u001b[39m\u001b[39;1m4.9\u001b[39;22m\u001b[39m)\u001b[39m: \u001b[34mPending...\u001b[39m\n",
      "\u001b[2A\u001b[0J  \u001b[34;1m•\u001b[39;22m \u001b[39mInstalling \u001b[39m\u001b[36mrsa\u001b[39m\u001b[39m (\u001b[39m\u001b[39;1m4.9\u001b[39;22m\u001b[39m)\u001b[39m: \u001b[34mPending...\u001b[39m\n",
      "\u001b[1A\u001b[0J  \u001b[34;1m•\u001b[39;22m \u001b[39mInstalling \u001b[39m\u001b[36mpyasn1-modules\u001b[39m\u001b[39m (\u001b[39m\u001b[39;1m0.3.0\u001b[39;22m\u001b[39m)\u001b[39m: \u001b[34mDownloading...\u001b[39m \u001b[39;1m100%\u001b[39;22m\n",
      "  \u001b[34;1m•\u001b[39;22m \u001b[39mInstalling \u001b[39m\u001b[36mrsa\u001b[39m\u001b[39m (\u001b[39m\u001b[39;1m4.9\u001b[39;22m\u001b[39m)\u001b[39m: \u001b[34mPending...\u001b[39m\n",
      "\u001b[2A\u001b[0J  \u001b[34;1m•\u001b[39;22m \u001b[39mInstalling \u001b[39m\u001b[36mrsa\u001b[39m\u001b[39m (\u001b[39m\u001b[39;1m4.9\u001b[39;22m\u001b[39m)\u001b[39m: \u001b[34mPending...\u001b[39m\n",
      "\u001b[1A\u001b[0J  \u001b[34;1m•\u001b[39;22m \u001b[39mInstalling \u001b[39m\u001b[36mpyasn1-modules\u001b[39m\u001b[39m (\u001b[39m\u001b[39;1m0.3.0\u001b[39;22m\u001b[39m)\u001b[39m: \u001b[34mInstalling...\u001b[39m\n",
      "  \u001b[34;1m•\u001b[39;22m \u001b[39mInstalling \u001b[39m\u001b[36mrsa\u001b[39m\u001b[39m (\u001b[39m\u001b[39;1m4.9\u001b[39;22m\u001b[39m)\u001b[39m: \u001b[34mPending...\u001b[39m\n",
      "\u001b[3A\u001b[0J  \u001b[34;1m•\u001b[39;22m \u001b[39mInstalling \u001b[39m\u001b[36mpyasn1-modules\u001b[39m\u001b[39m (\u001b[39m\u001b[39;1m0.3.0\u001b[39;22m\u001b[39m)\u001b[39m: \u001b[34mInstalling...\u001b[39m\n",
      "  \u001b[34;1m•\u001b[39;22m \u001b[39mInstalling \u001b[39m\u001b[36mrsa\u001b[39m\u001b[39m (\u001b[39m\u001b[39;1m4.9\u001b[39;22m\u001b[39m)\u001b[39m: \u001b[34mPending...\u001b[39m\n",
      "\u001b[2A\u001b[0J  \u001b[34;1m•\u001b[39;22m \u001b[39mInstalling \u001b[39m\u001b[36mcachetools\u001b[39m\u001b[39m (\u001b[39m\u001b[39;1m5.3.2\u001b[39;22m\u001b[39m)\u001b[39m: \u001b[34mDownloading...\u001b[39m \u001b[39;1m0%\u001b[39;22m\n",
      "  \u001b[34;1m•\u001b[39;22m \u001b[39mInstalling \u001b[39m\u001b[36mpyasn1-modules\u001b[39m\u001b[39m (\u001b[39m\u001b[39;1m0.3.0\u001b[39;22m\u001b[39m)\u001b[39m: \u001b[34mInstalling...\u001b[39m\n",
      "  \u001b[34;1m•\u001b[39;22m \u001b[39mInstalling \u001b[39m\u001b[36mrsa\u001b[39m\u001b[39m (\u001b[39m\u001b[39;1m4.9\u001b[39;22m\u001b[39m)\u001b[39m: \u001b[34mPending...\u001b[39m\n",
      "\u001b[1A\u001b[0J  \u001b[34;1m•\u001b[39;22m \u001b[39mInstalling \u001b[39m\u001b[36mrsa\u001b[39m\u001b[39m (\u001b[39m\u001b[39;1m4.9\u001b[39;22m\u001b[39m)\u001b[39m: \u001b[34mDownloading...\u001b[39m \u001b[39;1m0%\u001b[39;22m\n",
      "\u001b[3A\u001b[0J  \u001b[34;1m•\u001b[39;22m \u001b[39mInstalling \u001b[39m\u001b[36mpyasn1-modules\u001b[39m\u001b[39m (\u001b[39m\u001b[39;1m0.3.0\u001b[39;22m\u001b[39m)\u001b[39m: \u001b[34mInstalling...\u001b[39m\n",
      "  \u001b[34;1m•\u001b[39;22m \u001b[39mInstalling \u001b[39m\u001b[36mrsa\u001b[39m\u001b[39m (\u001b[39m\u001b[39;1m4.9\u001b[39;22m\u001b[39m)\u001b[39m: \u001b[34mDownloading...\u001b[39m \u001b[39;1m0%\u001b[39;22m\n",
      "\u001b[2A\u001b[0J  \u001b[34;1m•\u001b[39;22m \u001b[39mInstalling \u001b[39m\u001b[36mcachetools\u001b[39m\u001b[39m (\u001b[39m\u001b[39;1m5.3.2\u001b[39;22m\u001b[39m)\u001b[39m: \u001b[34mDownloading...\u001b[39m \u001b[39;1m100%\u001b[39;22m\n",
      "  \u001b[34;1m•\u001b[39;22m \u001b[39mInstalling \u001b[39m\u001b[36mpyasn1-modules\u001b[39m\u001b[39m (\u001b[39m\u001b[39;1m0.3.0\u001b[39;22m\u001b[39m)\u001b[39m: \u001b[34mInstalling...\u001b[39m\n",
      "  \u001b[34;1m•\u001b[39;22m \u001b[39mInstalling \u001b[39m\u001b[36mrsa\u001b[39m\u001b[39m (\u001b[39m\u001b[39;1m4.9\u001b[39;22m\u001b[39m)\u001b[39m: \u001b[34mDownloading...\u001b[39m \u001b[39;1m0%\u001b[39;22m\n",
      "\u001b[3A\u001b[0J  \u001b[34;1m•\u001b[39;22m \u001b[39mInstalling \u001b[39m\u001b[36mpyasn1-modules\u001b[39m\u001b[39m (\u001b[39m\u001b[39;1m0.3.0\u001b[39;22m\u001b[39m)\u001b[39m: \u001b[34mInstalling...\u001b[39m\n",
      "  \u001b[34;1m•\u001b[39;22m \u001b[39mInstalling \u001b[39m\u001b[36mrsa\u001b[39m\u001b[39m (\u001b[39m\u001b[39;1m4.9\u001b[39;22m\u001b[39m)\u001b[39m: \u001b[34mDownloading...\u001b[39m \u001b[39;1m0%\u001b[39;22m\n",
      "\u001b[2A\u001b[0J  \u001b[34;1m•\u001b[39;22m \u001b[39mInstalling \u001b[39m\u001b[36mcachetools\u001b[39m\u001b[39m (\u001b[39m\u001b[39;1m5.3.2\u001b[39;22m\u001b[39m)\u001b[39m: \u001b[34mInstalling...\u001b[39m\n",
      "  \u001b[34;1m•\u001b[39;22m \u001b[39mInstalling \u001b[39m\u001b[36mpyasn1-modules\u001b[39m\u001b[39m (\u001b[39m\u001b[39;1m0.3.0\u001b[39;22m\u001b[39m)\u001b[39m: \u001b[34mInstalling...\u001b[39m\n",
      "  \u001b[34;1m•\u001b[39;22m \u001b[39mInstalling \u001b[39m\u001b[36mrsa\u001b[39m\u001b[39m (\u001b[39m\u001b[39;1m4.9\u001b[39;22m\u001b[39m)\u001b[39m: \u001b[34mDownloading...\u001b[39m \u001b[39;1m0%\u001b[39;22m\n",
      "\u001b[1A\u001b[0J  \u001b[34;1m•\u001b[39;22m \u001b[39mInstalling \u001b[39m\u001b[36mrsa\u001b[39m\u001b[39m (\u001b[39m\u001b[39;1m4.9\u001b[39;22m\u001b[39m)\u001b[39m: \u001b[34mDownloading...\u001b[39m \u001b[39;1m100%\u001b[39;22m\n",
      "\u001b[1A\u001b[0J  \u001b[34;1m•\u001b[39;22m \u001b[39mInstalling \u001b[39m\u001b[36mrsa\u001b[39m\u001b[39m (\u001b[39m\u001b[39;1m4.9\u001b[39;22m\u001b[39m)\u001b[39m: \u001b[34mInstalling...\u001b[39m\n",
      "\u001b[3A\u001b[0J  \u001b[34;1m•\u001b[39;22m \u001b[39mInstalling \u001b[39m\u001b[36mpyasn1-modules\u001b[39m\u001b[39m (\u001b[39m\u001b[39;1m0.3.0\u001b[39;22m\u001b[39m)\u001b[39m: \u001b[34mInstalling...\u001b[39m\n",
      "  \u001b[34;1m•\u001b[39;22m \u001b[39mInstalling \u001b[39m\u001b[36mrsa\u001b[39m\u001b[39m (\u001b[39m\u001b[39;1m4.9\u001b[39;22m\u001b[39m)\u001b[39m: \u001b[34mInstalling...\u001b[39m\n",
      "\u001b[2A\u001b[0J  \u001b[32;1m•\u001b[39;22m \u001b[39mInstalling \u001b[39m\u001b[36mcachetools\u001b[39m\u001b[39m (\u001b[39m\u001b[32m5.3.2\u001b[39m\u001b[39m)\u001b[39m\n",
      "  \u001b[34;1m•\u001b[39;22m \u001b[39mInstalling \u001b[39m\u001b[36mpyasn1-modules\u001b[39m\u001b[39m (\u001b[39m\u001b[39;1m0.3.0\u001b[39;22m\u001b[39m)\u001b[39m: \u001b[34mInstalling...\u001b[39m\n",
      "  \u001b[34;1m•\u001b[39;22m \u001b[39mInstalling \u001b[39m\u001b[36mrsa\u001b[39m\u001b[39m (\u001b[39m\u001b[39;1m4.9\u001b[39;22m\u001b[39m)\u001b[39m: \u001b[34mInstalling...\u001b[39m\n",
      "\u001b[1A\u001b[0J  \u001b[32;1m•\u001b[39;22m \u001b[39mInstalling \u001b[39m\u001b[36mrsa\u001b[39m\u001b[39m (\u001b[39m\u001b[32m4.9\u001b[39m\u001b[39m)\u001b[39m\n",
      "\u001b[2A\u001b[0J  \u001b[32;1m•\u001b[39;22m \u001b[39mInstalling \u001b[39m\u001b[36mrsa\u001b[39m\u001b[39m (\u001b[39m\u001b[32m4.9\u001b[39m\u001b[39m)\u001b[39m\n",
      "\u001b[1A\u001b[0J  \u001b[32;1m•\u001b[39;22m \u001b[39mInstalling \u001b[39m\u001b[36mpyasn1-modules\u001b[39m\u001b[39m (\u001b[39m\u001b[32m0.3.0\u001b[39m\u001b[39m)\u001b[39m\n",
      "  \u001b[32;1m•\u001b[39;22m \u001b[39mInstalling \u001b[39m\u001b[36mrsa\u001b[39m\u001b[39m (\u001b[39m\u001b[32m4.9\u001b[39m\u001b[39m)\u001b[39m\n",
      "  \u001b[34;1m•\u001b[39;22m \u001b[39mInstalling \u001b[39m\u001b[36mgoogle-auth\u001b[39m\u001b[39m (\u001b[39m\u001b[39;1m2.25.2\u001b[39;22m\u001b[39m)\u001b[39m: \u001b[34mPending...\u001b[39m\n",
      "  \u001b[34;1m•\u001b[39;22m \u001b[39mInstalling \u001b[39m\u001b[36mgoogleapis-common-protos\u001b[39m\u001b[39m (\u001b[39m\u001b[39;1m1.62.0\u001b[39;22m\u001b[39m)\u001b[39m: \u001b[34mPending...\u001b[39m\n",
      "  \u001b[34;1m•\u001b[39;22m \u001b[39mInstalling \u001b[39m\u001b[36mhttplib2\u001b[39m\u001b[39m (\u001b[39m\u001b[39;1m0.22.0\u001b[39;22m\u001b[39m)\u001b[39m: \u001b[34mPending...\u001b[39m\n",
      "\u001b[2A\u001b[0J  \u001b[34;1m•\u001b[39;22m \u001b[39mInstalling \u001b[39m\u001b[36mhttplib2\u001b[39m\u001b[39m (\u001b[39m\u001b[39;1m0.22.0\u001b[39;22m\u001b[39m)\u001b[39m: \u001b[34mPending...\u001b[39m\n",
      "\u001b[1A\u001b[0J  \u001b[34;1m•\u001b[39;22m \u001b[39mInstalling \u001b[39m\u001b[36mgoogleapis-common-protos\u001b[39m\u001b[39m (\u001b[39m\u001b[39;1m1.62.0\u001b[39;22m\u001b[39m)\u001b[39m: \u001b[34mDownloading...\u001b[39m \u001b[39;1m0%\u001b[39;22m\n",
      "  \u001b[34;1m•\u001b[39;22m \u001b[39mInstalling \u001b[39m\u001b[36mhttplib2\u001b[39m\u001b[39m (\u001b[39m\u001b[39;1m0.22.0\u001b[39;22m\u001b[39m)\u001b[39m: \u001b[34mPending...\u001b[39m\n",
      "\u001b[1A\u001b[0J  \u001b[34;1m•\u001b[39;22m \u001b[39mInstalling \u001b[39m\u001b[36mhttplib2\u001b[39m\u001b[39m (\u001b[39m\u001b[39;1m0.22.0\u001b[39;22m\u001b[39m)\u001b[39m: \u001b[34mDownloading...\u001b[39m \u001b[39;1m0%\u001b[39;22m\n",
      "\u001b[3A\u001b[0J  \u001b[34;1m•\u001b[39;22m \u001b[39mInstalling \u001b[39m\u001b[36mgoogleapis-common-protos\u001b[39m\u001b[39m (\u001b[39m\u001b[39;1m1.62.0\u001b[39;22m\u001b[39m)\u001b[39m: \u001b[34mDownloading...\u001b[39m \u001b[39;1m0%\u001b[39;22m\n",
      "  \u001b[34;1m•\u001b[39;22m \u001b[39mInstalling \u001b[39m\u001b[36mhttplib2\u001b[39m\u001b[39m (\u001b[39m\u001b[39;1m0.22.0\u001b[39;22m\u001b[39m)\u001b[39m: \u001b[34mDownloading...\u001b[39m \u001b[39;1m0%\u001b[39;22m\n",
      "\u001b[2A\u001b[0J  \u001b[34;1m•\u001b[39;22m \u001b[39mInstalling \u001b[39m\u001b[36mgoogle-auth\u001b[39m\u001b[39m (\u001b[39m\u001b[39;1m2.25.2\u001b[39;22m\u001b[39m)\u001b[39m: \u001b[34mDownloading...\u001b[39m \u001b[39;1m0%\u001b[39;22m\n",
      "  \u001b[34;1m•\u001b[39;22m \u001b[39mInstalling \u001b[39m\u001b[36mgoogleapis-common-protos\u001b[39m\u001b[39m (\u001b[39m\u001b[39;1m1.62.0\u001b[39;22m\u001b[39m)\u001b[39m: \u001b[34mDownloading...\u001b[39m \u001b[39;1m0%\u001b[39;22m\n",
      "  \u001b[34;1m•\u001b[39;22m \u001b[39mInstalling \u001b[39m\u001b[36mhttplib2\u001b[39m\u001b[39m (\u001b[39m\u001b[39;1m0.22.0\u001b[39;22m\u001b[39m)\u001b[39m: \u001b[34mDownloading...\u001b[39m \u001b[39;1m0%\u001b[39;22m\n",
      "\u001b[1A\u001b[0J  \u001b[34;1m•\u001b[39;22m \u001b[39mInstalling \u001b[39m\u001b[36mhttplib2\u001b[39m\u001b[39m (\u001b[39m\u001b[39;1m0.22.0\u001b[39;22m\u001b[39m)\u001b[39m: \u001b[34mDownloading...\u001b[39m \u001b[39;1m100%\u001b[39;22m\n",
      "\u001b[1A\u001b[0J  \u001b[34;1m•\u001b[39;22m \u001b[39mInstalling \u001b[39m\u001b[36mhttplib2\u001b[39m\u001b[39m (\u001b[39m\u001b[39;1m0.22.0\u001b[39;22m\u001b[39m)\u001b[39m: \u001b[34mInstalling...\u001b[39m\n",
      "\u001b[3A\u001b[0J  \u001b[34;1m•\u001b[39;22m \u001b[39mInstalling \u001b[39m\u001b[36mgoogleapis-common-protos\u001b[39m\u001b[39m (\u001b[39m\u001b[39;1m1.62.0\u001b[39;22m\u001b[39m)\u001b[39m: \u001b[34mDownloading...\u001b[39m \u001b[39;1m0%\u001b[39;22m\n",
      "  \u001b[34;1m•\u001b[39;22m \u001b[39mInstalling \u001b[39m\u001b[36mhttplib2\u001b[39m\u001b[39m (\u001b[39m\u001b[39;1m0.22.0\u001b[39;22m\u001b[39m)\u001b[39m: \u001b[34mInstalling...\u001b[39m\n",
      "\u001b[2A\u001b[0J  \u001b[34;1m•\u001b[39;22m \u001b[39mInstalling \u001b[39m\u001b[36mgoogle-auth\u001b[39m\u001b[39m (\u001b[39m\u001b[39;1m2.25.2\u001b[39;22m\u001b[39m)\u001b[39m: \u001b[34mDownloading...\u001b[39m \u001b[39;1m100%\u001b[39;22m\n",
      "  \u001b[34;1m•\u001b[39;22m \u001b[39mInstalling \u001b[39m\u001b[36mgoogleapis-common-protos\u001b[39m\u001b[39m (\u001b[39m\u001b[39;1m1.62.0\u001b[39;22m\u001b[39m)\u001b[39m: \u001b[34mDownloading...\u001b[39m \u001b[39;1m0%\u001b[39;22m\n",
      "  \u001b[34;1m•\u001b[39;22m \u001b[39mInstalling \u001b[39m\u001b[36mhttplib2\u001b[39m\u001b[39m (\u001b[39m\u001b[39;1m0.22.0\u001b[39;22m\u001b[39m)\u001b[39m: \u001b[34mInstalling...\u001b[39m\n",
      "\u001b[2A\u001b[0J  \u001b[34;1m•\u001b[39;22m \u001b[39mInstalling \u001b[39m\u001b[36mhttplib2\u001b[39m\u001b[39m (\u001b[39m\u001b[39;1m0.22.0\u001b[39;22m\u001b[39m)\u001b[39m: \u001b[34mInstalling...\u001b[39m\n",
      "\u001b[1A\u001b[0J  \u001b[34;1m•\u001b[39;22m \u001b[39mInstalling \u001b[39m\u001b[36mgoogleapis-common-protos\u001b[39m\u001b[39m (\u001b[39m\u001b[39;1m1.62.0\u001b[39;22m\u001b[39m)\u001b[39m: \u001b[34mDownloading...\u001b[39m \u001b[39;1m100%\u001b[39;22m\n",
      "  \u001b[34;1m•\u001b[39;22m \u001b[39mInstalling \u001b[39m\u001b[36mhttplib2\u001b[39m\u001b[39m (\u001b[39m\u001b[39;1m0.22.0\u001b[39;22m\u001b[39m)\u001b[39m: \u001b[34mInstalling...\u001b[39m\n",
      "\u001b[3A\u001b[0J  \u001b[34;1m•\u001b[39;22m \u001b[39mInstalling \u001b[39m\u001b[36mgoogleapis-common-protos\u001b[39m\u001b[39m (\u001b[39m\u001b[39;1m1.62.0\u001b[39;22m\u001b[39m)\u001b[39m: \u001b[34mDownloading...\u001b[39m \u001b[39;1m100%\u001b[39;22m\n",
      "  \u001b[34;1m•\u001b[39;22m \u001b[39mInstalling \u001b[39m\u001b[36mhttplib2\u001b[39m\u001b[39m (\u001b[39m\u001b[39;1m0.22.0\u001b[39;22m\u001b[39m)\u001b[39m: \u001b[34mInstalling...\u001b[39m\n",
      "\u001b[2A\u001b[0J  \u001b[34;1m•\u001b[39;22m \u001b[39mInstalling \u001b[39m\u001b[36mgoogle-auth\u001b[39m\u001b[39m (\u001b[39m\u001b[39;1m2.25.2\u001b[39;22m\u001b[39m)\u001b[39m: \u001b[34mInstalling...\u001b[39m\n",
      "  \u001b[34;1m•\u001b[39;22m \u001b[39mInstalling \u001b[39m\u001b[36mgoogleapis-common-protos\u001b[39m\u001b[39m (\u001b[39m\u001b[39;1m1.62.0\u001b[39;22m\u001b[39m)\u001b[39m: \u001b[34mDownloading...\u001b[39m \u001b[39;1m100%\u001b[39;22m\n",
      "  \u001b[34;1m•\u001b[39;22m \u001b[39mInstalling \u001b[39m\u001b[36mhttplib2\u001b[39m\u001b[39m (\u001b[39m\u001b[39;1m0.22.0\u001b[39;22m\u001b[39m)\u001b[39m: \u001b[34mInstalling...\u001b[39m\n",
      "\u001b[2A\u001b[0J  \u001b[34;1m•\u001b[39;22m \u001b[39mInstalling \u001b[39m\u001b[36mhttplib2\u001b[39m\u001b[39m (\u001b[39m\u001b[39;1m0.22.0\u001b[39;22m\u001b[39m)\u001b[39m: \u001b[34mInstalling...\u001b[39m\n",
      "\u001b[1A\u001b[0J  \u001b[34;1m•\u001b[39;22m \u001b[39mInstalling \u001b[39m\u001b[36mgoogleapis-common-protos\u001b[39m\u001b[39m (\u001b[39m\u001b[39;1m1.62.0\u001b[39;22m\u001b[39m)\u001b[39m: \u001b[34mInstalling...\u001b[39m\n",
      "  \u001b[34;1m•\u001b[39;22m \u001b[39mInstalling \u001b[39m\u001b[36mhttplib2\u001b[39m\u001b[39m (\u001b[39m\u001b[39;1m0.22.0\u001b[39;22m\u001b[39m)\u001b[39m: \u001b[34mInstalling...\u001b[39m\n",
      "\u001b[1A\u001b[0J  \u001b[32;1m•\u001b[39;22m \u001b[39mInstalling \u001b[39m\u001b[36mhttplib2\u001b[39m\u001b[39m (\u001b[39m\u001b[32m0.22.0\u001b[39m\u001b[39m)\u001b[39m\n",
      "\u001b[3A\u001b[0J  \u001b[34;1m•\u001b[39;22m \u001b[39mInstalling \u001b[39m\u001b[36mgoogleapis-common-protos\u001b[39m\u001b[39m (\u001b[39m\u001b[39;1m1.62.0\u001b[39;22m\u001b[39m)\u001b[39m: \u001b[34mInstalling...\u001b[39m\n",
      "  \u001b[32;1m•\u001b[39;22m \u001b[39mInstalling \u001b[39m\u001b[36mhttplib2\u001b[39m\u001b[39m (\u001b[39m\u001b[32m0.22.0\u001b[39m\u001b[39m)\u001b[39m\n",
      "\u001b[2A\u001b[0J  \u001b[32;1m•\u001b[39;22m \u001b[39mInstalling \u001b[39m\u001b[36mgoogle-auth\u001b[39m\u001b[39m (\u001b[39m\u001b[32m2.25.2\u001b[39m\u001b[39m)\u001b[39m\n",
      "  \u001b[34;1m•\u001b[39;22m \u001b[39mInstalling \u001b[39m\u001b[36mgoogleapis-common-protos\u001b[39m\u001b[39m (\u001b[39m\u001b[39;1m1.62.0\u001b[39;22m\u001b[39m)\u001b[39m: \u001b[34mInstalling...\u001b[39m\n",
      "  \u001b[32;1m•\u001b[39;22m \u001b[39mInstalling \u001b[39m\u001b[36mhttplib2\u001b[39m\u001b[39m (\u001b[39m\u001b[32m0.22.0\u001b[39m\u001b[39m)\u001b[39m\n",
      "\u001b[2A\u001b[0J  \u001b[32;1m•\u001b[39;22m \u001b[39mInstalling \u001b[39m\u001b[36mhttplib2\u001b[39m\u001b[39m (\u001b[39m\u001b[32m0.22.0\u001b[39m\u001b[39m)\u001b[39m\n",
      "\u001b[1A\u001b[0J  \u001b[32;1m•\u001b[39;22m \u001b[39mInstalling \u001b[39m\u001b[36mgoogleapis-common-protos\u001b[39m\u001b[39m (\u001b[39m\u001b[32m1.62.0\u001b[39m\u001b[39m)\u001b[39m\n",
      "  \u001b[32;1m•\u001b[39;22m \u001b[39mInstalling \u001b[39m\u001b[36mhttplib2\u001b[39m\u001b[39m (\u001b[39m\u001b[32m0.22.0\u001b[39m\u001b[39m)\u001b[39m\n",
      "  \u001b[34;1m•\u001b[39;22m \u001b[39mInstalling \u001b[39m\u001b[36mgoogle-api-core\u001b[39m\u001b[39m (\u001b[39m\u001b[39;1m2.15.0\u001b[39;22m\u001b[39m)\u001b[39m: \u001b[34mPending...\u001b[39m\n",
      "  \u001b[34;1m•\u001b[39;22m \u001b[39mInstalling \u001b[39m\u001b[36mgoogle-auth-httplib2\u001b[39m\u001b[39m (\u001b[39m\u001b[39;1m0.2.0\u001b[39;22m\u001b[39m)\u001b[39m: \u001b[34mPending...\u001b[39m\n",
      "  \u001b[34;1m•\u001b[39;22m \u001b[39mInstalling \u001b[39m\u001b[36muritemplate\u001b[39m\u001b[39m (\u001b[39m\u001b[39;1m4.1.1\u001b[39;22m\u001b[39m)\u001b[39m: \u001b[34mPending...\u001b[39m\n",
      "\u001b[2A\u001b[0J  \u001b[34;1m•\u001b[39;22m \u001b[39mInstalling \u001b[39m\u001b[36muritemplate\u001b[39m\u001b[39m (\u001b[39m\u001b[39;1m4.1.1\u001b[39;22m\u001b[39m)\u001b[39m: \u001b[34mPending...\u001b[39m\n",
      "\u001b[1A\u001b[0J  \u001b[34;1m•\u001b[39;22m \u001b[39mInstalling \u001b[39m\u001b[36mgoogle-auth-httplib2\u001b[39m\u001b[39m (\u001b[39m\u001b[39;1m0.2.0\u001b[39;22m\u001b[39m)\u001b[39m: \u001b[34mDownloading...\u001b[39m \u001b[39;1m0%\u001b[39;22m\n",
      "  \u001b[34;1m•\u001b[39;22m \u001b[39mInstalling \u001b[39m\u001b[36muritemplate\u001b[39m\u001b[39m (\u001b[39m\u001b[39;1m4.1.1\u001b[39;22m\u001b[39m)\u001b[39m: \u001b[34mPending...\u001b[39m\n",
      "\u001b[1A\u001b[0J  \u001b[34;1m•\u001b[39;22m \u001b[39mInstalling \u001b[39m\u001b[36muritemplate\u001b[39m\u001b[39m (\u001b[39m\u001b[39;1m4.1.1\u001b[39;22m\u001b[39m)\u001b[39m: \u001b[34mDownloading...\u001b[39m \u001b[39;1m0%\u001b[39;22m\n",
      "\u001b[3A\u001b[0J  \u001b[34;1m•\u001b[39;22m \u001b[39mInstalling \u001b[39m\u001b[36mgoogle-auth-httplib2\u001b[39m\u001b[39m (\u001b[39m\u001b[39;1m0.2.0\u001b[39;22m\u001b[39m)\u001b[39m: \u001b[34mDownloading...\u001b[39m \u001b[39;1m0%\u001b[39;22m\n",
      "  \u001b[34;1m•\u001b[39;22m \u001b[39mInstalling \u001b[39m\u001b[36muritemplate\u001b[39m\u001b[39m (\u001b[39m\u001b[39;1m4.1.1\u001b[39;22m\u001b[39m)\u001b[39m: \u001b[34mDownloading...\u001b[39m \u001b[39;1m0%\u001b[39;22m\n",
      "\u001b[2A\u001b[0J  \u001b[34;1m•\u001b[39;22m \u001b[39mInstalling \u001b[39m\u001b[36mgoogle-api-core\u001b[39m\u001b[39m (\u001b[39m\u001b[39;1m2.15.0\u001b[39;22m\u001b[39m)\u001b[39m: \u001b[34mDownloading...\u001b[39m \u001b[39;1m0%\u001b[39;22m\n",
      "  \u001b[34;1m•\u001b[39;22m \u001b[39mInstalling \u001b[39m\u001b[36mgoogle-auth-httplib2\u001b[39m\u001b[39m (\u001b[39m\u001b[39;1m0.2.0\u001b[39;22m\u001b[39m)\u001b[39m: \u001b[34mDownloading...\u001b[39m \u001b[39;1m0%\u001b[39;22m\n",
      "  \u001b[34;1m•\u001b[39;22m \u001b[39mInstalling \u001b[39m\u001b[36muritemplate\u001b[39m\u001b[39m (\u001b[39m\u001b[39;1m4.1.1\u001b[39;22m\u001b[39m)\u001b[39m: \u001b[34mDownloading...\u001b[39m \u001b[39;1m0%\u001b[39;22m\n",
      "\u001b[2A\u001b[0J  \u001b[34;1m•\u001b[39;22m \u001b[39mInstalling \u001b[39m\u001b[36muritemplate\u001b[39m\u001b[39m (\u001b[39m\u001b[39;1m4.1.1\u001b[39;22m\u001b[39m)\u001b[39m: \u001b[34mDownloading...\u001b[39m \u001b[39;1m0%\u001b[39;22m\n",
      "\u001b[1A\u001b[0J  \u001b[34;1m•\u001b[39;22m \u001b[39mInstalling \u001b[39m\u001b[36mgoogle-auth-httplib2\u001b[39m\u001b[39m (\u001b[39m\u001b[39;1m0.2.0\u001b[39;22m\u001b[39m)\u001b[39m: \u001b[34mDownloading...\u001b[39m \u001b[39;1m100%\u001b[39;22m\n",
      "  \u001b[34;1m•\u001b[39;22m \u001b[39mInstalling \u001b[39m\u001b[36muritemplate\u001b[39m\u001b[39m (\u001b[39m\u001b[39;1m4.1.1\u001b[39;22m\u001b[39m)\u001b[39m: \u001b[34mDownloading...\u001b[39m \u001b[39;1m0%\u001b[39;22m\n",
      "\u001b[1A\u001b[0J  \u001b[34;1m•\u001b[39;22m \u001b[39mInstalling \u001b[39m\u001b[36muritemplate\u001b[39m\u001b[39m (\u001b[39m\u001b[39;1m4.1.1\u001b[39;22m\u001b[39m)\u001b[39m: \u001b[34mDownloading...\u001b[39m \u001b[39;1m100%\u001b[39;22m\n",
      "\u001b[2A\u001b[0J  \u001b[34;1m•\u001b[39;22m \u001b[39mInstalling \u001b[39m\u001b[36muritemplate\u001b[39m\u001b[39m (\u001b[39m\u001b[39;1m4.1.1\u001b[39;22m\u001b[39m)\u001b[39m: \u001b[34mDownloading...\u001b[39m \u001b[39;1m100%\u001b[39;22m\n",
      "\u001b[1A\u001b[0J  \u001b[34;1m•\u001b[39;22m \u001b[39mInstalling \u001b[39m\u001b[36mgoogle-auth-httplib2\u001b[39m\u001b[39m (\u001b[39m\u001b[39;1m0.2.0\u001b[39;22m\u001b[39m)\u001b[39m: \u001b[34mInstalling...\u001b[39m\n",
      "  \u001b[34;1m•\u001b[39;22m \u001b[39mInstalling \u001b[39m\u001b[36muritemplate\u001b[39m\u001b[39m (\u001b[39m\u001b[39;1m4.1.1\u001b[39;22m\u001b[39m)\u001b[39m: \u001b[34mDownloading...\u001b[39m \u001b[39;1m100%\u001b[39;22m\n",
      "\u001b[3A\u001b[0J  \u001b[34;1m•\u001b[39;22m \u001b[39mInstalling \u001b[39m\u001b[36mgoogle-auth-httplib2\u001b[39m\u001b[39m (\u001b[39m\u001b[39;1m0.2.0\u001b[39;22m\u001b[39m)\u001b[39m: \u001b[34mInstalling...\u001b[39m\n",
      "  \u001b[34;1m•\u001b[39;22m \u001b[39mInstalling \u001b[39m\u001b[36muritemplate\u001b[39m\u001b[39m (\u001b[39m\u001b[39;1m4.1.1\u001b[39;22m\u001b[39m)\u001b[39m: \u001b[34mDownloading...\u001b[39m \u001b[39;1m100%\u001b[39;22m\n",
      "\u001b[2A\u001b[0J  \u001b[34;1m•\u001b[39;22m \u001b[39mInstalling \u001b[39m\u001b[36mgoogle-api-core\u001b[39m\u001b[39m (\u001b[39m\u001b[39;1m2.15.0\u001b[39;22m\u001b[39m)\u001b[39m: \u001b[34mDownloading...\u001b[39m \u001b[39;1m100%\u001b[39;22m\n",
      "  \u001b[34;1m•\u001b[39;22m \u001b[39mInstalling \u001b[39m\u001b[36mgoogle-auth-httplib2\u001b[39m\u001b[39m (\u001b[39m\u001b[39;1m0.2.0\u001b[39;22m\u001b[39m)\u001b[39m: \u001b[34mInstalling...\u001b[39m\n",
      "  \u001b[34;1m•\u001b[39;22m \u001b[39mInstalling \u001b[39m\u001b[36muritemplate\u001b[39m\u001b[39m (\u001b[39m\u001b[39;1m4.1.1\u001b[39;22m\u001b[39m)\u001b[39m: \u001b[34mDownloading...\u001b[39m \u001b[39;1m100%\u001b[39;22m\n",
      "\u001b[1A\u001b[0J  \u001b[34;1m•\u001b[39;22m \u001b[39mInstalling \u001b[39m\u001b[36muritemplate\u001b[39m\u001b[39m (\u001b[39m\u001b[39;1m4.1.1\u001b[39;22m\u001b[39m)\u001b[39m: \u001b[34mInstalling...\u001b[39m\n",
      "\u001b[3A\u001b[0J  \u001b[34;1m•\u001b[39;22m \u001b[39mInstalling \u001b[39m\u001b[36mgoogle-auth-httplib2\u001b[39m\u001b[39m (\u001b[39m\u001b[39;1m0.2.0\u001b[39;22m\u001b[39m)\u001b[39m: \u001b[34mInstalling...\u001b[39m\n",
      "  \u001b[34;1m•\u001b[39;22m \u001b[39mInstalling \u001b[39m\u001b[36muritemplate\u001b[39m\u001b[39m (\u001b[39m\u001b[39;1m4.1.1\u001b[39;22m\u001b[39m)\u001b[39m: \u001b[34mInstalling...\u001b[39m\n",
      "\u001b[2A\u001b[0J  \u001b[34;1m•\u001b[39;22m \u001b[39mInstalling \u001b[39m\u001b[36mgoogle-api-core\u001b[39m\u001b[39m (\u001b[39m\u001b[39;1m2.15.0\u001b[39;22m\u001b[39m)\u001b[39m: \u001b[34mInstalling...\u001b[39m\n",
      "  \u001b[34;1m•\u001b[39;22m \u001b[39mInstalling \u001b[39m\u001b[36mgoogle-auth-httplib2\u001b[39m\u001b[39m (\u001b[39m\u001b[39;1m0.2.0\u001b[39;22m\u001b[39m)\u001b[39m: \u001b[34mInstalling...\u001b[39m\n",
      "  \u001b[34;1m•\u001b[39;22m \u001b[39mInstalling \u001b[39m\u001b[36muritemplate\u001b[39m\u001b[39m (\u001b[39m\u001b[39;1m4.1.1\u001b[39;22m\u001b[39m)\u001b[39m: \u001b[34mInstalling...\u001b[39m\n",
      "\u001b[2A\u001b[0J  \u001b[34;1m•\u001b[39;22m \u001b[39mInstalling \u001b[39m\u001b[36muritemplate\u001b[39m\u001b[39m (\u001b[39m\u001b[39;1m4.1.1\u001b[39;22m\u001b[39m)\u001b[39m: \u001b[34mInstalling...\u001b[39m\n",
      "\u001b[1A\u001b[0J  \u001b[32;1m•\u001b[39;22m \u001b[39mInstalling \u001b[39m\u001b[36mgoogle-auth-httplib2\u001b[39m\u001b[39m (\u001b[39m\u001b[32m0.2.0\u001b[39m\u001b[39m)\u001b[39m\n",
      "  \u001b[34;1m•\u001b[39;22m \u001b[39mInstalling \u001b[39m\u001b[36muritemplate\u001b[39m\u001b[39m (\u001b[39m\u001b[39;1m4.1.1\u001b[39;22m\u001b[39m)\u001b[39m: \u001b[34mInstalling...\u001b[39m\n",
      "\u001b[1A\u001b[0J  \u001b[32;1m•\u001b[39;22m \u001b[39mInstalling \u001b[39m\u001b[36muritemplate\u001b[39m\u001b[39m (\u001b[39m\u001b[32m4.1.1\u001b[39m\u001b[39m)\u001b[39m\n",
      "\u001b[3A\u001b[0J  \u001b[32;1m•\u001b[39;22m \u001b[39mInstalling \u001b[39m\u001b[36mgoogle-auth-httplib2\u001b[39m\u001b[39m (\u001b[39m\u001b[32m0.2.0\u001b[39m\u001b[39m)\u001b[39m\n",
      "  \u001b[32;1m•\u001b[39;22m \u001b[39mInstalling \u001b[39m\u001b[36muritemplate\u001b[39m\u001b[39m (\u001b[39m\u001b[32m4.1.1\u001b[39m\u001b[39m)\u001b[39m\n",
      "\u001b[2A\u001b[0J  \u001b[32;1m•\u001b[39;22m \u001b[39mInstalling \u001b[39m\u001b[36mgoogle-api-core\u001b[39m\u001b[39m (\u001b[39m\u001b[32m2.15.0\u001b[39m\u001b[39m)\u001b[39m\n",
      "  \u001b[32;1m•\u001b[39;22m \u001b[39mInstalling \u001b[39m\u001b[36mgoogle-auth-httplib2\u001b[39m\u001b[39m (\u001b[39m\u001b[32m0.2.0\u001b[39m\u001b[39m)\u001b[39m\n",
      "  \u001b[32;1m•\u001b[39;22m \u001b[39mInstalling \u001b[39m\u001b[36muritemplate\u001b[39m\u001b[39m (\u001b[39m\u001b[32m4.1.1\u001b[39m\u001b[39m)\u001b[39m\n",
      "  \u001b[34;1m•\u001b[39;22m \u001b[39mInstalling \u001b[39m\u001b[36mgoogle-api-python-client\u001b[39m\u001b[39m (\u001b[39m\u001b[39;1m2.111.0\u001b[39;22m\u001b[39m)\u001b[39m: \u001b[34mPending...\u001b[39m\n",
      "\u001b[1A\u001b[0J  \u001b[34;1m•\u001b[39;22m \u001b[39mInstalling \u001b[39m\u001b[36mgoogle-api-python-client\u001b[39m\u001b[39m (\u001b[39m\u001b[39;1m2.111.0\u001b[39;22m\u001b[39m)\u001b[39m: \u001b[34mDownloading...\u001b[39m \u001b[39;1m0%\u001b[39;22m\n",
      "\u001b[1A\u001b[0J  \u001b[34;1m•\u001b[39;22m \u001b[39mInstalling \u001b[39m\u001b[36mgoogle-api-python-client\u001b[39m\u001b[39m (\u001b[39m\u001b[39;1m2.111.0\u001b[39;22m\u001b[39m)\u001b[39m: \u001b[34mDownloading...\u001b[39m \u001b[39;1m20%\u001b[39;22m\n",
      "\u001b[1A\u001b[0J  \u001b[34;1m•\u001b[39;22m \u001b[39mInstalling \u001b[39m\u001b[36mgoogle-api-python-client\u001b[39m\u001b[39m (\u001b[39m\u001b[39;1m2.111.0\u001b[39;22m\u001b[39m)\u001b[39m: \u001b[34mDownloading...\u001b[39m \u001b[39;1m40%\u001b[39;22m\n",
      "\u001b[1A\u001b[0J  \u001b[34;1m•\u001b[39;22m \u001b[39mInstalling \u001b[39m\u001b[36mgoogle-api-python-client\u001b[39m\u001b[39m (\u001b[39m\u001b[39;1m2.111.0\u001b[39;22m\u001b[39m)\u001b[39m: \u001b[34mDownloading...\u001b[39m \u001b[39;1m60%\u001b[39;22m\n",
      "\u001b[1A\u001b[0J  \u001b[34;1m•\u001b[39;22m \u001b[39mInstalling \u001b[39m\u001b[36mgoogle-api-python-client\u001b[39m\u001b[39m (\u001b[39m\u001b[39;1m2.111.0\u001b[39;22m\u001b[39m)\u001b[39m: \u001b[34mDownloading...\u001b[39m \u001b[39;1m80%\u001b[39;22m\n",
      "\u001b[1A\u001b[0J  \u001b[34;1m•\u001b[39;22m \u001b[39mInstalling \u001b[39m\u001b[36mgoogle-api-python-client\u001b[39m\u001b[39m (\u001b[39m\u001b[39;1m2.111.0\u001b[39;22m\u001b[39m)\u001b[39m: \u001b[34mDownloading...\u001b[39m \u001b[39;1m100%\u001b[39;22m\n",
      "\u001b[1A\u001b[0J  \u001b[34;1m•\u001b[39;22m \u001b[39mInstalling \u001b[39m\u001b[36mgoogle-api-python-client\u001b[39m\u001b[39m (\u001b[39m\u001b[39;1m2.111.0\u001b[39;22m\u001b[39m)\u001b[39m: \u001b[34mInstalling...\u001b[39m\n",
      "\u001b[1A\u001b[0J  \u001b[32;1m•\u001b[39;22m \u001b[39mInstalling \u001b[39m\u001b[36mgoogle-api-python-client\u001b[39m\u001b[39m (\u001b[39m\u001b[32m2.111.0\u001b[39m\u001b[39m)\u001b[39m\n",
      "\n",
      "\u001b[34mWriting lock file\u001b[39m\n"
     ]
    }
   ],
   "source": [
    "!poetry add google-api-python-client"
   ]
  },
  {
   "cell_type": "code",
   "execution_count": 31,
   "id": "34f68daa-54c4-4d29-897a-d7ff706a3099",
   "metadata": {},
   "outputs": [],
   "source": [
    "search = GoogleSearchAPIWrapper()"
   ]
  },
  {
   "cell_type": "code",
   "execution_count": 32,
   "id": "56af2a74-e00f-4b26-8317-fc7aacba2099",
   "metadata": {},
   "outputs": [],
   "source": [
    "tools = [\n",
    "    Tool(\n",
    "        name = \"google-search\",\n",
    "        func=search.run,\n",
    "        description=\"useful for when you need to search google to answer questions about current events\"\n",
    "    )\n",
    "]"
   ]
  },
  {
   "cell_type": "code",
   "execution_count": 33,
   "id": "d3f4a2bf-0cc9-4ff9-bcdb-30467b54961e",
   "metadata": {},
   "outputs": [],
   "source": [
    "agent = initialize_agent(tools, \n",
    "                         llm, \n",
    "                         agent=AgentType.ZERO_SHOT_REACT_DESCRIPTION, \n",
    "                         verbose=True,\n",
    "                         max_iterations=6)"
   ]
  },
  {
   "cell_type": "code",
   "execution_count": 37,
   "id": "f044e356-572e-4142-813a-840f5d4240a9",
   "metadata": {
    "collapsed": true,
    "jupyter": {
     "outputs_hidden": true
    },
    "scrolled": true
   },
   "outputs": [
    {
     "name": "stdout",
     "output_type": "stream",
     "text": [
      "\n",
      "\n",
      "\u001b[1m> Entering new  chain...\u001b[0m\n",
      "\u001b[32;1m\u001b[1;3m I should find out what the latest news is.\n",
      "Action: google-search\n",
      "Action Input: \"Amrita Veerabaghu news\"\u001b[0m\n",
      "Observation: \u001b[36;1m\u001b[1;3mExciting news - we've joined Instagram!… Exciting news - we've joined Instagram!… ... Amrita Sundari Veerabagu. Software Engineer, Machine Learning at Niantic, ... 2013 – Breaking News Live; 2013 - 3 G; 2013 - Last Bus 8:30 PM; 2014 - Law Point ... Amrita TV, Devan, Malayalam. 2010, Indhraneelam, Surya TV, Malayalam. 2010- ... Amrita Singh. Robert Half University of California, Santa Cruz. San Jose ... Concord, CA · Connect · Amrita Sundari Veerabagu. San Jose, CA · Connect · L. Mattock ... Nov 2, 2023 ... News Edition, American Chemical Society, Organic Letters, Organic ... Amrita V.; Kleinheinz, Tracy; Lai, Tommy; Leipold, Douglas D.; Li, Chun ... Premkumar S. Principal Software Engineer at Optum. Optum Amrita School of Engineering,Coimbatore. Chennai, Tamil Nadu, India. 560 followers 500+ connections. Amrita Vidyalayam. 4.248 Ratings. Maravanmadam. Call Now. Servite Sbsc School ... News; More. Veerabahu Muthusamy. 46 Alford Road,. High Wycombe. HP12 4PP. 1370. Muthaiya ... AMRITA . ARORA. B-4/92 SECTOR-8. ROHINI. NEW DELHI. NEW DELHI. 110085. 2663. ... NEWS SERVICE INDIA PRIVATE LIMITED. U22219KA2011PTC061608 5139021 TIPPANNA ... AMRITA SINGH. 9672 IEX BUSINESS TOOLS PRIVATE LIMITED. U74999KA2012PTC063484 ... Dec 30, 2022 ... CXOtoday News Desk 12 hours ago. Can you provide a ... Amrita Gupta, Director of Manglam Group and Founder President of CREDAI... Dr. Sreenivasa S. Jonnalagadda is a Gastroenterologist in Kansas City, MO. Find Dr. Jonnalagadda's phone number, address, insurance information, ...\u001b[0m\n",
      "Thought:\u001b[32;1m\u001b[1;3m I now know the final answer\n",
      "Final Answer: The latest news about the Amrita Veerabaghu includes joining Instagram, Amrita Sundari Veerabagu's software engineering and machine learning work at Niantic, Amrita Singh's work at Robert Half, Amrita V.'s work at Optum, Amrita Vidyalayam's ratings, Veerabahu Muthusamy's address, Amrita Arora's address, News Service India Private Limited's registration, IEX Business Tools Private Limited's registration, CXOtoday's news, Amrita Gupta's work at Manglam Group and CREDAI, and Dr. Sreenivasa S. Jonnalagadda's work as a gastroenterologist in Kansas City, MO.\u001b[0m\n",
      "\n",
      "\u001b[1m> Finished chain.\u001b[0m\n",
      "The latest news about the Amrita Veerabaghu includes joining Instagram, Amrita Sundari Veerabagu's software engineering and machine learning work at Niantic, Amrita Singh's work at Robert Half, Amrita V.'s work at Optum, Amrita Vidyalayam's ratings, Veerabahu Muthusamy's address, Amrita Arora's address, News Service India Private Limited's registration, IEX Business Tools Private Limited's registration, CXOtoday's news, Amrita Gupta's work at Manglam Group and CREDAI, and Dr. Sreenivasa S. Jonnalagadda's work as a gastroenterologist in Kansas City, MO.\n"
     ]
    }
   ],
   "source": [
    "response = agent(\"What's the latest news about the Mars Rover?\")\n",
    "print(response['output'])"
   ]
  },
  {
   "cell_type": "markdown",
   "id": "9340e51b-d943-4423-aa51-7b08abd0483b",
   "metadata": {},
   "source": [
    "## Tools in LangChain"
   ]
  },
  {
   "cell_type": "markdown",
   "id": "ca97d897-9960-4790-8525-242533e21778",
   "metadata": {},
   "source": [
    "### Google Search + Text Summarizer tool"
   ]
  },
  {
   "cell_type": "code",
   "execution_count": 39,
   "id": "aa70d774-896a-41a6-bc29-1321bce4ae57",
   "metadata": {},
   "outputs": [],
   "source": [
    "from langchain.llms import OpenAI\n",
    "from langchain.agents import Tool\n",
    "from langchain.utilities import GoogleSearchAPIWrapper\n",
    "from langchain.prompts import PromptTemplate\n",
    "from langchain.chains import LLMChain\n",
    "from langchain.agents import initialize_agent, AgentType"
   ]
  },
  {
   "cell_type": "code",
   "execution_count": 40,
   "id": "654e47b9-f382-47e6-8c04-4acfe4c9e4b1",
   "metadata": {},
   "outputs": [],
   "source": [
    "llm = OpenAI(model=\"text-davinci-003\", temperature=0)\n",
    "\n",
    "prompt = PromptTemplate(\n",
    "    input_variables=[\"query\"],\n",
    "    template=\"Write a summary of the following text: {query}\"\n",
    ")\n",
    "\n",
    "summarize_chain = LLMChain(llm=llm, prompt=prompt)"
   ]
  },
  {
   "cell_type": "code",
   "execution_count": 41,
   "id": "8f289c98-5a08-4c77-bf4d-57b1a22b0020",
   "metadata": {},
   "outputs": [],
   "source": [
    "# remember to set the environment variables\n",
    "# “GOOGLE_API_KEY” and “GOOGLE_CSE_ID” to be able to use\n",
    "# Google Search via API.\n",
    "search = GoogleSearchAPIWrapper()\n",
    "\n",
    "tools = [\n",
    "    Tool(\n",
    "        name=\"Search\",\n",
    "        func=search.run,\n",
    "        description=\"useful for finding information about recent events\"\n",
    "    ),\n",
    "    Tool(\n",
    "       name='Summarizer',\n",
    "       func=summarize_chain.run,\n",
    "       description='useful for summarizing texts'\n",
    "    )\n",
    "]"
   ]
  },
  {
   "cell_type": "code",
   "execution_count": 42,
   "id": "5fb74c4c-f116-4ea4-90c3-445888928bab",
   "metadata": {},
   "outputs": [],
   "source": [
    "agent = initialize_agent(\n",
    "    tools,\n",
    "    llm,\n",
    "    agent=AgentType.ZERO_SHOT_REACT_DESCRIPTION,\n",
    "    verbose=True  \n",
    ")"
   ]
  },
  {
   "cell_type": "code",
   "execution_count": 44,
   "id": "66ae3a9f-7a79-4c2b-b4ef-90a3d85061bf",
   "metadata": {},
   "outputs": [
    {
     "name": "stdout",
     "output_type": "stream",
     "text": [
      "\n",
      "\n",
      "\u001b[1m> Entering new  chain...\u001b[0m\n",
      "\u001b[32;1m\u001b[1;3m I need to find the latest news about the Mars rover and then summarize it.\n",
      "Action: Search\n",
      "Action Input: Latest news about the Mars rover\u001b[0m\n",
      "Observation: \u001b[36;1m\u001b[1;3mNASA's Curiosity Mars rover captured these clouds just after sunset on March 19, 2021, ... Feb 8, 2023 ... NASA's Curiosity Mars rover has discovered lots of evidence of ancient lakes on the Red Planet – and this recent panorama shows intriguing ... News ; NASA's Perseverance Rover Deciphers Ancient History of Martian Lake. December 12, 2023 ; NASA's MAVEN Observes the Disappearing Solar Wind. December 11, ... Dec 15, 2021 ... These and other findings were presented today during a news briefing at the American Geophysical Union fall science meeting in New Orleans. Even ... NASA's Mars 2020 Perseverance rover will look for signs of past microbial life, cache rock and soil samples, and prepare for future human exploration. Apr 13, 2023 ... NASA's Curiosity Mars rover will drive faster and reduce wear on its wheels thanks to two of the new capabilities included with a major software ... The latest breaking news, comment and features from The Independent. Oct 19, 2022 ... “We would get new images every morning and just be in awe,” said Elena Amador-French of JPL, Curiosity's science operations coordinator, who ... Apr 25, 2023 ... China's Mars rover, which has been in longer-than-expected hibernation on the red planet since May 2022, has likely suffered excessive ... Oct 23, 2023 ... A new analysis, led by Penn State researchers, of data from the Curiosity rover reveals that much of the craters on Mars today could have ...\u001b[0m\n",
      "Thought:\u001b[32;1m\u001b[1;3m I need to summarize the results.\n",
      "Action: Summarizer\n",
      "Action Input: NASA's Curiosity Mars rover captured these clouds just after sunset on March 19, 2021, ... Feb 8, 2023 ... NASA's Curiosity Mars rover has discovered lots of evidence of ancient lakes on the Red Planet – and this recent panorama shows intriguing ... News ; NASA's Perseverance Rover Deciphers Ancient History of Martian Lake. December 12, 2023 ; NASA's MAVEN Observes the Disappearing Solar Wind. December 11, ... Dec 15, 2021 ... These and other findings were presented today during a news briefing at the American Geophysical Union fall science meeting in New Orleans. Even ... NASA's Mars 2020 Perseverance rover will look for signs of past microbial life, cache rock and soil samples, and prepare for future human exploration. Apr 13, 2023 ... NASA's Curiosity Mars rover will drive faster and reduce wear on its wheels thanks to two of the new capabilities included with a major software ... The latest breaking news, comment and features from The Independent. Oct 19, 2022 ... “We would get new images every morning and just be in awe,” said Elena Amador-French of JPL, Curiosity's science operations coordinator, who\u001b[0m\n",
      "Observation: \u001b[33;1m\u001b[1;3m ...\n",
      "\n",
      "NASA's Curiosity Mars rover has been exploring the Red Planet since March 19, 2021, and has discovered evidence of ancient lakes. In December 2021, findings from the rover were presented at the American Geophysical Union fall science meeting in New Orleans. In December 2023, NASA's MAVEN observed the disappearing solar wind. In October 2022, the rover's science operations coordinator Elena Amador-French expressed her awe at the images the rover captured. In April 2023, the rover was given new capabilities to drive faster and reduce wear on its wheels. Finally, in February 2023, NASA's Mars 2020 Perseverance rover was launched to look for signs of past microbial life, cache rock and soil samples, and prepare for future human exploration.\u001b[0m\n",
      "Thought:\u001b[32;1m\u001b[1;3m I now know the final answer\n",
      "Final Answer: NASA's Curiosity Mars rover has been exploring the Red Planet since March 19, 2021, and has discovered evidence of ancient lakes. In December 2021, findings from the rover were presented at the American Geophysical Union fall science meeting in New Orleans. In December 2023, NASA's MAVEN observed the disappearing solar wind. In October 2022, the rover's science operations coordinator Elena Amador-French expressed her awe at the images the rover captured. In April 2023, the rover was given new capabilities to drive faster and reduce wear on its wheels. Finally, in February 2023, NASA's Mars 2020 Perseverance rover was launched to look for signs of past microbial life, cache rock and soil samples, and prepare for future human exploration.\u001b[0m\n",
      "\n",
      "\u001b[1m> Finished chain.\u001b[0m\n",
      "NASA's Curiosity Mars rover has been exploring the Red Planet since March 19, 2021, and has discovered evidence of ancient lakes. In December 2021, findings from the rover were presented at the American Geophysical Union fall science meeting in New Orleans. In December 2023, NASA's MAVEN observed the disappearing solar wind. In October 2022, the rover's science operations coordinator Elena Amador-French expressed her awe at the images the rover captured. In April 2023, the rover was given new capabilities to drive faster and reduce wear on its wheels. Finally, in February 2023, NASA's Mars 2020 Perseverance rover was launched to look for signs of past microbial life, cache rock and soil samples, and prepare for future human exploration.\n"
     ]
    }
   ],
   "source": [
    "response = agent(\"What's the latest news about the Mars rover? Then please summarize the results.\")\n",
    "print(response['output'])"
   ]
  },
  {
   "cell_type": "code",
   "execution_count": null,
   "id": "dca2ed99-2697-4f6e-8706-7b4a4192a80a",
   "metadata": {},
   "outputs": [],
   "source": []
  }
 ],
 "metadata": {
  "kernelspec": {
   "display_name": "Python 3 (ipykernel)",
   "language": "python",
   "name": "python3"
  },
  "language_info": {
   "codemirror_mode": {
    "name": "ipython",
    "version": 3
   },
   "file_extension": ".py",
   "mimetype": "text/x-python",
   "name": "python",
   "nbconvert_exporter": "python",
   "pygments_lexer": "ipython3",
   "version": "3.10.13"
  }
 },
 "nbformat": 4,
 "nbformat_minor": 5
}
